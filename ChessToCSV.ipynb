{
 "cells": [
  {
   "cell_type": "code",
   "execution_count": 27,
   "metadata": {},
   "outputs": [],
   "source": [
    "import chess.pgn\n",
    "import csv\n",
    "\n",
    "pgn = open(\"lichess_201408.pgn\")"
   ]
  },
  {
   "cell_type": "code",
   "execution_count": 28,
   "metadata": {},
   "outputs": [],
   "source": [
    "games = []\n",
    "i = 0\n",
    "with open('lichess_201408_matesonly_200000.csv', mode='w') as csv_file:\n",
    "    csv_writer = csv.writer(csv_file, delimiter=',', quotechar='\"', quoting=csv.QUOTE_MINIMAL, lineterminator = '\\n')\n",
    "    while i < 200000:\n",
    "        game=chess.pgn.read_game(pgn)\n",
    "        if game is not None:\n",
    "            if (game.headers[\"Result\"] == \"1-0\" or game.headers[\"Result\"] == \"0-1\"):\n",
    "                board = game.board()\n",
    "                \n",
    "                moves = \"\"\n",
    "                winner = \"\"\n",
    "                \n",
    "                length = 0\n",
    "\n",
    "                for move in game.mainline_moves():\n",
    "                    asciiarray = [str(num) for num in [ord(character) for character in board.san(move)]]\n",
    "                    asc = \"\".join(asciiarray)\n",
    "                    moves = moves + asc + \" \"\n",
    "                    board.push(move)\n",
    "                    length = length + 1\n",
    "                \n",
    "                if (game.headers[\"Result\"] == \"1-0\"):\n",
    "                    winner = \"0\"\n",
    "                else:\n",
    "                    winner = \"1\"\n",
    "                \n",
    "                csv_writer.writerow([moves, winner, length])\n",
    "                \n",
    "                i = i+1\n",
    "        else: \n",
    "            break"
   ]
  },
  {
   "cell_type": "code",
   "execution_count": 15,
   "metadata": {},
   "outputs": [],
   "source": [
    "\n",
    "\n",
    "for game in games:\n",
    "    board = game.board()\n",
    "\n",
    "    for move in game.mainline_moves():\n",
    "        print(board.san(move))\n",
    "        board.push(move)"
   ]
  },
  {
   "cell_type": "code",
   "execution_count": null,
   "metadata": {},
   "outputs": [],
   "source": []
  }
 ],
 "metadata": {
  "kernelspec": {
   "display_name": "Python 3",
   "language": "python",
   "name": "python3"
  },
  "language_info": {
   "codemirror_mode": {
    "name": "ipython",
    "version": 3
   },
   "file_extension": ".py",
   "mimetype": "text/x-python",
   "name": "python",
   "nbconvert_exporter": "python",
   "pygments_lexer": "ipython3",
   "version": "3.8.3"
  }
 },
 "nbformat": 4,
 "nbformat_minor": 4
}
